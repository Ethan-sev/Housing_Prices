{
 "cells": [
  {
   "cell_type": "code",
   "execution_count": 1,
   "id": "324853a1",
   "metadata": {},
   "outputs": [],
   "source": [
    "import pandas as pd"
   ]
  },
  {
   "cell_type": "code",
   "execution_count": 2,
   "id": "0abcd825",
   "metadata": {},
   "outputs": [],
   "source": [
    "df = pd.read_csv(r\"C:\\Users\\Sezy\\OneDrive\\Housing_Prices\\Cleaned_Data\\Cleaned_Housing_Prices.csv\")"
   ]
  },
  {
   "cell_type": "code",
   "execution_count": 3,
   "id": "865f9221",
   "metadata": {},
   "outputs": [
    {
     "data": {
      "text/html": [
       "<div>\n",
       "<style scoped>\n",
       "    .dataframe tbody tr th:only-of-type {\n",
       "        vertical-align: middle;\n",
       "    }\n",
       "\n",
       "    .dataframe tbody tr th {\n",
       "        vertical-align: top;\n",
       "    }\n",
       "\n",
       "    .dataframe thead th {\n",
       "        text-align: right;\n",
       "    }\n",
       "</style>\n",
       "<table border=\"1\" class=\"dataframe\">\n",
       "  <thead>\n",
       "    <tr style=\"text-align: right;\">\n",
       "      <th></th>\n",
       "      <th>Date</th>\n",
       "      <th>RegionID</th>\n",
       "      <th>SizeRank</th>\n",
       "      <th>RegionName</th>\n",
       "      <th>RegionType</th>\n",
       "      <th>StateName</th>\n",
       "      <th>Price</th>\n",
       "    </tr>\n",
       "  </thead>\n",
       "  <tbody>\n",
       "    <tr>\n",
       "      <th>0</th>\n",
       "      <td>2010-01-31</td>\n",
       "      <td>394297</td>\n",
       "      <td>677</td>\n",
       "      <td>Aberdeen, SD</td>\n",
       "      <td>msa</td>\n",
       "      <td>SD</td>\n",
       "      <td>131237.5905</td>\n",
       "    </tr>\n",
       "    <tr>\n",
       "      <th>1</th>\n",
       "      <td>2010-02-28</td>\n",
       "      <td>394297</td>\n",
       "      <td>677</td>\n",
       "      <td>Aberdeen, SD</td>\n",
       "      <td>msa</td>\n",
       "      <td>SD</td>\n",
       "      <td>131219.7383</td>\n",
       "    </tr>\n",
       "    <tr>\n",
       "      <th>2</th>\n",
       "      <td>2010-03-31</td>\n",
       "      <td>394297</td>\n",
       "      <td>677</td>\n",
       "      <td>Aberdeen, SD</td>\n",
       "      <td>msa</td>\n",
       "      <td>SD</td>\n",
       "      <td>131266.7507</td>\n",
       "    </tr>\n",
       "    <tr>\n",
       "      <th>3</th>\n",
       "      <td>2010-04-30</td>\n",
       "      <td>394297</td>\n",
       "      <td>677</td>\n",
       "      <td>Aberdeen, SD</td>\n",
       "      <td>msa</td>\n",
       "      <td>SD</td>\n",
       "      <td>131412.1359</td>\n",
       "    </tr>\n",
       "    <tr>\n",
       "      <th>4</th>\n",
       "      <td>2010-05-31</td>\n",
       "      <td>394297</td>\n",
       "      <td>677</td>\n",
       "      <td>Aberdeen, SD</td>\n",
       "      <td>msa</td>\n",
       "      <td>SD</td>\n",
       "      <td>131777.8433</td>\n",
       "    </tr>\n",
       "  </tbody>\n",
       "</table>\n",
       "</div>"
      ],
      "text/plain": [
       "         Date  RegionID  SizeRank    RegionName RegionType StateName  \\\n",
       "0  2010-01-31    394297       677  Aberdeen, SD        msa        SD   \n",
       "1  2010-02-28    394297       677  Aberdeen, SD        msa        SD   \n",
       "2  2010-03-31    394297       677  Aberdeen, SD        msa        SD   \n",
       "3  2010-04-30    394297       677  Aberdeen, SD        msa        SD   \n",
       "4  2010-05-31    394297       677  Aberdeen, SD        msa        SD   \n",
       "\n",
       "         Price  \n",
       "0  131237.5905  \n",
       "1  131219.7383  \n",
       "2  131266.7507  \n",
       "3  131412.1359  \n",
       "4  131777.8433  "
      ]
     },
     "execution_count": 3,
     "metadata": {},
     "output_type": "execute_result"
    }
   ],
   "source": [
    "df.head()"
   ]
  },
  {
   "cell_type": "code",
   "execution_count": 5,
   "id": "ab667767",
   "metadata": {},
   "outputs": [
    {
     "name": "stdout",
     "output_type": "stream",
     "text": [
      "             Date  RegionID  SizeRank     RegionName RegionType StateName  \\\n",
      "25024  2010-01-31    394475        35  Cleveland, OH        msa        OH   \n",
      "25025  2010-02-28    394475        35  Cleveland, OH        msa        OH   \n",
      "25026  2010-03-31    394475        35  Cleveland, OH        msa        OH   \n",
      "25027  2010-04-30    394475        35  Cleveland, OH        msa        OH   \n",
      "25028  2010-05-31    394475        35  Cleveland, OH        msa        OH   \n",
      "\n",
      "             Price  \n",
      "25024  130520.4249  \n",
      "25025  130199.3519  \n",
      "25026  130007.2402  \n",
      "25027  130184.8722  \n",
      "25028  130202.4204  \n"
     ]
    }
   ],
   "source": [
    "# Filter data for Cleveland, OH\n",
    "cleveland_df = df[df['RegionName'] == 'Cleveland, OH'].copy()\n",
    "\n",
    "# Just to check\n",
    "print(cleveland_df.head())\n"
   ]
  },
  {
   "cell_type": "code",
   "execution_count": 6,
   "id": "f0a04774",
   "metadata": {},
   "outputs": [],
   "source": [
    "cleveland_df['Price_lag1'] = cleveland_df['Price'].shift(1)\n",
    "cleveland_df['Price_lag2'] = cleveland_df['Price'].shift(2)\n"
   ]
  },
  {
   "cell_type": "code",
   "execution_count": 7,
   "id": "ace27108",
   "metadata": {},
   "outputs": [],
   "source": [
    "cleveland_df = cleveland_df.dropna(subset=['Price_lag1', 'Price_lag2'])\n"
   ]
  },
  {
   "cell_type": "code",
   "execution_count": 8,
   "id": "de33a986",
   "metadata": {},
   "outputs": [
    {
     "name": "stdout",
     "output_type": "stream",
     "text": [
      "                            OLS Regression Results                            \n",
      "==============================================================================\n",
      "Dep. Variable:                  Price   R-squared:                       1.000\n",
      "Model:                            OLS   Adj. R-squared:                  1.000\n",
      "Method:                 Least Squares   F-statistic:                 1.232e+06\n",
      "Date:                Wed, 11 Jun 2025   Prob (F-statistic):               0.00\n",
      "Time:                        15:00:55   Log-Likelihood:                -1319.4\n",
      "No. Observations:                 182   AIC:                             2645.\n",
      "Df Residuals:                     179   BIC:                             2654.\n",
      "Df Model:                           2                                         \n",
      "Covariance Type:            nonrobust                                         \n",
      "==============================================================================\n",
      "                 coef    std err          t      P>|t|      [0.025      0.975]\n",
      "------------------------------------------------------------------------------\n",
      "const         -0.2976    113.636     -0.003      0.998    -224.537     223.942\n",
      "Price_lag1     1.9162      0.032     59.268      0.000       1.852       1.980\n",
      "Price_lag2    -0.9158      0.033    -27.993      0.000      -0.980      -0.851\n",
      "==============================================================================\n",
      "Omnibus:                       24.136   Durbin-Watson:                   0.717\n",
      "Prob(Omnibus):                  0.000   Jarque-Bera (JB):              132.751\n",
      "Skew:                           0.031   Prob(JB):                     1.49e-29\n",
      "Kurtosis:                       7.184   Cond. No.                     1.03e+06\n",
      "==============================================================================\n",
      "\n",
      "Notes:\n",
      "[1] Standard Errors assume that the covariance matrix of the errors is correctly specified.\n",
      "[2] The condition number is large, 1.03e+06. This might indicate that there are\n",
      "strong multicollinearity or other numerical problems.\n"
     ]
    }
   ],
   "source": [
    "import statsmodels.api as sm\n",
    "\n",
    "X = cleveland_df[['Price_lag1', 'Price_lag2']]\n",
    "y = cleveland_df['Price']\n",
    "\n",
    "# Add constant term (intercept)\n",
    "X = sm.add_constant(X)\n",
    "\n",
    "model = sm.OLS(y, X).fit()\n",
    "print(model.summary())\n"
   ]
  },
  {
   "cell_type": "code",
   "execution_count": 9,
   "id": "2b821e6e",
   "metadata": {},
   "outputs": [
    {
     "name": "stdout",
     "output_type": "stream",
     "text": [
      "25026    130007.2402\n",
      "25027    130184.8722\n",
      "25028    130202.4204\n",
      "25029    130022.1279\n",
      "25030    129442.6127\n",
      "            ...     \n",
      "25203    242051.3344\n",
      "25204    243321.9398\n",
      "25205    244525.4002\n",
      "25206    245187.8466\n",
      "25207    245769.7745\n",
      "Name: Price, Length: 182, dtype: float64\n"
     ]
    }
   ],
   "source": [
    "print(y)"
   ]
  },
  {
   "cell_type": "code",
   "execution_count": 10,
   "id": "2352c721",
   "metadata": {},
   "outputs": [
    {
     "name": "stdout",
     "output_type": "stream",
     "text": [
      "               Price  Price_lag1  Price_lag2\n",
      "Price       1.000000    0.999805    0.999251\n",
      "Price_lag1  0.999805    1.000000    0.999801\n",
      "Price_lag2  0.999251    0.999801    1.000000\n"
     ]
    }
   ],
   "source": [
    "print(cleveland_df[['Price', 'Price_lag1', 'Price_lag2']].corr())\n"
   ]
  },
  {
   "cell_type": "code",
   "execution_count": null,
   "id": "6e9aeba9",
   "metadata": {},
   "outputs": [
    {
     "ename": "",
     "evalue": "",
     "output_type": "error",
     "traceback": [
      "\u001b[1;31mThe Kernel crashed while executing code in the current cell or a previous cell. \n",
      "\u001b[1;31mPlease review the code in the cell(s) to identify a possible cause of the failure. \n",
      "\u001b[1;31mClick <a href='https://aka.ms/vscodeJupyterKernelCrash'>here</a> for more info. \n",
      "\u001b[1;31mView Jupyter <a href='command:jupyter.viewOutput'>log</a> for further details."
     ]
    }
   ],
   "source": [
    "cleveland_df['Price_diff'] = cleveland_df['Price'] - cleveland_df['Price'].shift(1)\n",
    "cleveland_df['Price_diff_lag1'] = cleveland_df['Price_diff'].shift(1)\n",
    "cleveland_df['Price_diff_lag2'] = cleveland_df['Price_diff'].shift(2)\n"
   ]
  }
 ],
 "metadata": {
  "kernelspec": {
   "display_name": "base",
   "language": "python",
   "name": "python3"
  },
  "language_info": {
   "codemirror_mode": {
    "name": "ipython",
    "version": 3
   },
   "file_extension": ".py",
   "mimetype": "text/x-python",
   "name": "python",
   "nbconvert_exporter": "python",
   "pygments_lexer": "ipython3",
   "version": "3.11.7"
  }
 },
 "nbformat": 4,
 "nbformat_minor": 5
}
